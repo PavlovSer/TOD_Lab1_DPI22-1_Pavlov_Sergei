{
  "cells": [
    {
      "cell_type": "markdown",
      "metadata": {
        "id": "Av-vMKocLVTe"
      },
      "source": [
        "## Лабораторная работа №1"
      ]
    },
    {
      "cell_type": "markdown",
      "metadata": {
        "id": "6WmfdwM4LVTf"
      },
      "source": [
        "Замечание: при решении данных задач не подразумевается использования циклов или генераторов Python, если в задании не сказано обратного. Решение должно опираться на использования функционала библиотеки `numpy`."
      ]
    },
    {
      "cell_type": "markdown",
      "metadata": {
        "id": "6NjkmROlLVTg"
      },
      "source": [
        "1. Файл `minutes_n_ingredients.csv` содержит информацию об идентификаторе рецепта, времени его выполнения в минутах и количестве необходимых ингредиентов. Считайте данные из этого файла в виде массива `numpy` типа `int32`, используя `np.loadtxt`. Выведите на экран первые 5 строк массива."
      ]
    },
    {
      "cell_type": "code",
      "source": [
        "import numpy as np\n",
        "arr = np.loadtxt('minutes_n_ingredients.csv', delimiter=',', skiprows=1, dtype=np.int32)\n",
        "print(\"Первые 5 строк массива:\\n\",  arr[:5,:])"
      ],
      "metadata": {
        "colab": {
          "base_uri": "https://localhost:8080/"
        },
        "id": "espCet-YNffx",
        "outputId": "7bce0877-d2b1-4cd1-99b5-fcd09bc59f06"
      },
      "execution_count": 327,
      "outputs": [
        {
          "output_type": "stream",
          "name": "stdout",
          "text": [
            "Первые 5 строк массива:\n",
            " [[127244     60     16]\n",
            " [ 23891     25      7]\n",
            " [ 94746     10      6]\n",
            " [ 67660      5      6]\n",
            " [157911     60     14]]\n"
          ]
        }
      ]
    },
    {
      "cell_type": "markdown",
      "metadata": {
        "id": "hyX88I4SLVTh"
      },
      "source": [
        "2. Вычислите среднее значение, минимум, максимум и медиану по каждому из столбцов, кроме первого."
      ]
    },
    {
      "cell_type": "code",
      "source": [
        "print(\"Среднее значение времени и количества рецептов:\\n\", arr[:,1].mean(), arr[:,2].mean())\n",
        "print(\"\\nМинимальное значение времени и количества рецептов:\\n\", arr[:,1].min(), arr[:,2].min())\n",
        "print(\"\\nМаксимальное значение времени и количества рецептов:\\n\", arr[:,1].max(), arr[:,2].max())\n",
        "print(\"\\nМедианое значение времени и количества рецептов:\\n\", np.median(arr[:,1]), np.median(arr[:,2]))"
      ],
      "metadata": {
        "colab": {
          "base_uri": "https://localhost:8080/"
        },
        "id": "dfZB7uNeQUBB",
        "outputId": "9d72b88b-d4f3-4ff8-e72b-f93096e03b6f"
      },
      "execution_count": 328,
      "outputs": [
        {
          "output_type": "stream",
          "name": "stdout",
          "text": [
            "Среднее значение времени и количества рецептов:\n",
            " 21601.00169 9.05528\n",
            "\n",
            "Минимальное значение времени и количества рецептов:\n",
            " 0 1\n",
            "\n",
            "Максимальное значение времени и количества рецептов:\n",
            " 2147483647 39\n",
            "\n",
            "Медианое значение времени и количества рецептов:\n",
            " 40.0 9.0\n"
          ]
        }
      ]
    },
    {
      "cell_type": "markdown",
      "metadata": {
        "id": "WR36i0C8LVTi"
      },
      "source": [
        "3. Ограничьте сверху значения продолжительности выполнения рецепта значением квантиля $q_{0.75}$. "
      ]
    },
    {
      "cell_type": "code",
      "source": [
        "q075 = np.quantile(arr[:,1], q=0.75, axis=0)\n",
        "arr[:,1] = arr[:,1].clip(max=q075)"
      ],
      "metadata": {
        "id": "sdVf5rjSfTkr"
      },
      "execution_count": 329,
      "outputs": []
    },
    {
      "cell_type": "markdown",
      "metadata": {
        "id": "TO2diWLxLVTk"
      },
      "source": [
        "4. Посчитайте, для скольких рецептов указана продолжительность, равная нулю. Замените для таких строк значение в данном столбце на 1."
      ]
    },
    {
      "cell_type": "code",
      "source": [
        "count_0_min = np.count_nonzero(arr[:, 1] == 0)\n",
        "\n",
        "print(\"Количество рецептов продолжительностью 0 минут:\", count_0_min)\n",
        "arr[arr[:,1] == 0, 1] = 1\n"
      ],
      "metadata": {
        "colab": {
          "base_uri": "https://localhost:8080/"
        },
        "id": "gkv4_rGsjnkx",
        "outputId": "0b463db3-dfd5-4114-c551-92cdc4847f4d"
      },
      "execution_count": 330,
      "outputs": [
        {
          "output_type": "stream",
          "name": "stdout",
          "text": [
            "Количество рецептов продолжительностью 0 минут: 479\n"
          ]
        }
      ]
    },
    {
      "cell_type": "markdown",
      "metadata": {
        "id": "acPKCo0ZLVTk"
      },
      "source": [
        "5. Посчитайте, сколько уникальных рецептов находится в датасете."
      ]
    },
    {
      "cell_type": "code",
      "source": [
        "print(\"Количество уникальных рецептов:\", len(np.unique(arr, axis=1)))"
      ],
      "metadata": {
        "colab": {
          "base_uri": "https://localhost:8080/"
        },
        "id": "lz0t6Slg1ZEF",
        "outputId": "90840060-9b1a-41ed-f3ec-a6a229357ed7"
      },
      "execution_count": 331,
      "outputs": [
        {
          "output_type": "stream",
          "name": "stdout",
          "text": [
            "Количество уникальных рецептов: 100000\n"
          ]
        }
      ]
    },
    {
      "cell_type": "markdown",
      "metadata": {
        "id": "KvdUk0oZLVTk"
      },
      "source": [
        "6. Сколько и каких различных значений кол-ва ингредиентов присутвует в рецептах из датасета?"
      ]
    },
    {
      "cell_type": "code",
      "source": [
        "print(\"Различных количеств ингридиентов:\",len(np.unique(arr[:,2])))\n",
        "print(\"Различные значения количества ингридиентов:\\n\", np.unique(arr[:,2]))\n"
      ],
      "metadata": {
        "colab": {
          "base_uri": "https://localhost:8080/"
        },
        "id": "sM5TuElW6Ytn",
        "outputId": "6d5e9aa9-7ab6-491a-cc20-e121b0b30f66"
      },
      "execution_count": 333,
      "outputs": [
        {
          "output_type": "stream",
          "name": "stdout",
          "text": [
            "Различных количеств ингридиентов: 37\n",
            "Различные значения количества ингридиентов:\n",
            " [ 1  2  3  4  5  6  7  8  9 10 11 12 13 14 15 16 17 18 19 20 21 22 23 24\n",
            " 25 26 27 28 29 30 31 32 33 34 35 37 39]\n"
          ]
        }
      ]
    },
    {
      "cell_type": "markdown",
      "metadata": {
        "id": "etml7IuOLVTl"
      },
      "source": [
        "7. Создайте версию массива, содержащую информацию только о рецептах, состоящих не более чем из 5 ингредиентов."
      ]
    },
    {
      "cell_type": "code",
      "source": [
        "version = arr[arr[:,2] <= 5,:].copy()\n",
        "print(\"Количество рецептов, состоящих не более чем из 5 ингредиентов:\", len(version))"
      ],
      "metadata": {
        "colab": {
          "base_uri": "https://localhost:8080/"
        },
        "id": "I67AnVnH97nl",
        "outputId": "13e408bb-c0a3-493e-d757-0a2731b92be6"
      },
      "execution_count": 337,
      "outputs": [
        {
          "output_type": "stream",
          "name": "stdout",
          "text": [
            "Количество рецептов, состоящих не более чем из 5 ингредиентов: 17262\n"
          ]
        }
      ]
    },
    {
      "cell_type": "markdown",
      "metadata": {
        "id": "fZ46XGgpLVTl"
      },
      "source": [
        "8. Для каждого рецепта посчитайте, сколько в среднем ингредиентов приходится на одну минуту рецепта. Найдите максимальное значение этой величины для всего датасета"
      ]
    },
    {
      "cell_type": "code",
      "source": [
        "print(\"Максимум кол-ва ингредиентов на одну минуту в рецепте:\", (arr[:,2] / arr[:, 1]).max())"
      ],
      "metadata": {
        "colab": {
          "base_uri": "https://localhost:8080/"
        },
        "id": "VS_AhJNtBFQE",
        "outputId": "10393780-a98d-479f-8d4a-ce74d36be4df"
      },
      "execution_count": 338,
      "outputs": [
        {
          "output_type": "stream",
          "name": "stdout",
          "text": [
            "Максимум кол-ва ингредиентов на одну минуту в рецепте: 24.0\n"
          ]
        }
      ]
    },
    {
      "cell_type": "markdown",
      "metadata": {
        "id": "pH4P5qYfLVTm"
      },
      "source": [
        "9. Вычислите среднее количество ингредиентов для топ-100 рецептов с наибольшей продолжительностью"
      ]
    },
    {
      "cell_type": "code",
      "source": [
        "print((arr[arr[:,1].argsort()[::-1]])[:100,2].mean())"
      ],
      "metadata": {
        "colab": {
          "base_uri": "https://localhost:8080/"
        },
        "id": "KY6d9s0R2BHt",
        "outputId": "f87a19e3-26fc-4ad4-ec5e-69c70b079e81"
      },
      "execution_count": 340,
      "outputs": [
        {
          "output_type": "stream",
          "name": "stdout",
          "text": [
            "9.96\n"
          ]
        }
      ]
    },
    {
      "cell_type": "markdown",
      "source": [
        "Если под 'топ-100' понимается первые 100 рецептов по порядку следования в датасете с максимальным временем, то среднее количество ингредиентов равно:"
      ],
      "metadata": {
        "id": "bVG5f9NvEv9U"
      }
    },
    {
      "cell_type": "code",
      "source": [
        "print((arr[arr[:,1] == arr[:,1].max()])[:100, 2].mean())"
      ],
      "metadata": {
        "colab": {
          "base_uri": "https://localhost:8080/"
        },
        "id": "Xku8r-olFfDd",
        "outputId": "b50d9f65-5f25-47ee-d5c0-89fdd4bafa44"
      },
      "execution_count": 341,
      "outputs": [
        {
          "output_type": "stream",
          "name": "stdout",
          "text": [
            "10.03\n"
          ]
        }
      ]
    },
    {
      "cell_type": "markdown",
      "metadata": {
        "id": "hx5YZ8SkLVTn"
      },
      "source": [
        "10. Выберите случайным образом и выведите информацию о 10 различных рецептах"
      ]
    },
    {
      "cell_type": "code",
      "source": [
        "#rand_rezept = np.random.randint(0, len(arr), size=10) <-- вариант не учитывающий \"различные\" рецепты\n",
        "\n",
        "# rand_rezep - вспомогательный массив (первый столбец - случайное число, второй - индекс)\n",
        "rand_rezept = np.concatenate((np.random.randint(0, 100000, len(arr))[np.newaxis, :].T, np.arange(len(arr))[np.newaxis, :].T), axis=1)\n",
        "\n",
        "# сортируем и выводим первые 10\n",
        "print(\"Информация о 10 различных случайных рецептах:\")\n",
        "print(arr[(rand_rezept[rand_rezept[:, 0].argsort()])[:10, 1]])\n",
        "\n",
        "# алгоритм гарантирует неповторяющиеся рецепты, сделано без for )"
      ],
      "metadata": {
        "colab": {
          "base_uri": "https://localhost:8080/"
        },
        "id": "bIqRWBwiLSrp",
        "outputId": "950c675c-05e9-4f0b-8e86-fd6574d1d0b3"
      },
      "execution_count": 348,
      "outputs": [
        {
          "output_type": "stream",
          "name": "stdout",
          "text": [
            "Информация о 10 различных случайных рецептах:\n",
            "[[461220     20      7]\n",
            " [ 33753     15     11]\n",
            " [331116     12      4]\n",
            " [ 41277     30     10]\n",
            " [498714     10      2]\n",
            " [408085     60     10]\n",
            " [377569     45     12]\n",
            " [292834      2      4]\n",
            " [391022     20     13]\n",
            " [413208     38     15]]\n"
          ]
        }
      ]
    },
    {
      "cell_type": "markdown",
      "metadata": {
        "id": "5u6e7l8QLVTn"
      },
      "source": [
        "11. Выведите процент рецептов, кол-во ингредиентов в которых меньше среднего."
      ]
    },
    {
      "cell_type": "code",
      "source": [
        "print(\"Процент рецептов, кол-во ингредиентов в которых меньше среднего:\")\n",
        "print(len(arr[arr[:, 2] < arr[:, 2].mean()]) * 100 / len(arr), \"%\")"
      ],
      "metadata": {
        "colab": {
          "base_uri": "https://localhost:8080/"
        },
        "id": "e_xUQx65RgMu",
        "outputId": "98e2864f-db74-46c0-e816-666d6af88c42"
      },
      "execution_count": 349,
      "outputs": [
        {
          "output_type": "stream",
          "name": "stdout",
          "text": [
            "Процент рецептов, кол-во ингредиентов в которых меньше среднего:\n",
            "58.802 %\n"
          ]
        }
      ]
    },
    {
      "cell_type": "markdown",
      "metadata": {
        "id": "dtKn3YvnLVTo"
      },
      "source": [
        "12. Назовем \"простым\" такой рецепт, длительность выполнения которого не больше 20 минут и кол-во ингредиентов в котором не больше 5. Создайте версию датасета с дополнительным столбцом, значениями которого являются 1, если рецепт простой, и 0 в противном случае."
      ]
    },
    {
      "cell_type": "code",
      "source": [
        "dop_col = np.arange(len(arr))\n",
        "dop_col[:] = 0\n",
        "dop_col[(arr[:,1] <= 20) & (arr[:,2] <= 5)] = 1\n",
        "dop_col = dop_col[np.newaxis, :]\n",
        "\n",
        "version2 = np.concatenate((arr, dop_col.T), axis = 1)\n",
        "print(\"Версия датасета с дополнительным столбцом:\")\n",
        "print(version2)"
      ],
      "metadata": {
        "colab": {
          "base_uri": "https://localhost:8080/"
        },
        "id": "E9t-SRzfiJu-",
        "outputId": "39406b00-4de5-4490-d29d-49b4919fd39f"
      },
      "execution_count": 351,
      "outputs": [
        {
          "output_type": "stream",
          "name": "stdout",
          "text": [
            "Версия датасета с дополнительным столбцом:\n",
            "[[127244     60     16      0]\n",
            " [ 23891     25      7      0]\n",
            " [ 94746     10      6      0]\n",
            " ...\n",
            " [498432     65     15      0]\n",
            " [370915      5      4      1]\n",
            " [ 81993     65     14      0]]\n"
          ]
        }
      ]
    },
    {
      "cell_type": "markdown",
      "metadata": {
        "id": "OBMEzLwmLVTp"
      },
      "source": [
        "13. Выведите процент \"простых\" рецептов в датасете"
      ]
    },
    {
      "cell_type": "code",
      "source": [
        "print(\"Процент 'простых' рецептов в датасете:\")\n",
        "print(len(arr[(arr[:,1] <= 20) & (arr[:,2] <= 5)]) / len(arr), \"%\")"
      ],
      "metadata": {
        "colab": {
          "base_uri": "https://localhost:8080/"
        },
        "id": "BegAy7uKUSLm",
        "outputId": "80a890dc-a9fe-4803-fce2-a168f3c54e12"
      },
      "execution_count": 352,
      "outputs": [
        {
          "output_type": "stream",
          "name": "stdout",
          "text": [
            "Процент 'простых' рецептов в датасете:\n",
            "0.09552 %\n"
          ]
        }
      ]
    },
    {
      "cell_type": "markdown",
      "metadata": {
        "id": "7WSIfz2NLVTp"
      },
      "source": [
        "14. Разделим рецепты на группы по следующему правилу. Назовем рецепты короткими, если их продолжительность составляет менее 10 минут; стандартными, если их продолжительность составляет более 10, но менее 20 минут; и длинными, если их продолжительность составляет не менее 20 минут. Создайте трехмерный массив, где нулевая ось отвечает за номер группы (короткий, стандартный или длинный рецепт), первая ось - за сам рецепт и вторая ось - за характеристики рецепта. Выберите максимальное количество рецептов из каждой группы таким образом, чтобы было возможно сформировать трехмерный массив. Выведите форму полученного массива."
      ]
    },
    {
      "cell_type": "code",
      "execution_count": 353,
      "metadata": {
        "colab": {
          "base_uri": "https://localhost:8080/"
        },
        "id": "so9w5jHVLVTq",
        "outputId": "56985f55-fd2c-4355-cd03-f8b4c73d0a06"
      },
      "outputs": [
        {
          "output_type": "stream",
          "name": "stdout",
          "text": [
            "Форма полученного массива: (3, 7588, 3)\n"
          ]
        },
        {
          "output_type": "execute_result",
          "data": {
            "text/plain": [
              "array([[[ 67660,      5,      6],\n",
              "        [366174,      7,      9],\n",
              "        [204134,      5,      3],\n",
              "        ...,\n",
              "        [420725,      5,      3],\n",
              "        [  4747,      1,      9],\n",
              "        [370915,      5,      4]],\n",
              "\n",
              "       [[ 94746,     10,      6],\n",
              "        [ 33941,     18,      9],\n",
              "        [446597,     15,      5],\n",
              "        ...,\n",
              "        [  9831,     15,      7],\n",
              "        [335859,     12,     14],\n",
              "        [256812,     10,      3]],\n",
              "\n",
              "       [[127244,     60,     16],\n",
              "        [ 23891,     25,      7],\n",
              "        [157911,     60,     14],\n",
              "        ...,\n",
              "        [168901,     25,      7],\n",
              "        [392339,     35,     13],\n",
              "        [206732,     45,     10]]], dtype=int32)"
            ]
          },
          "metadata": {},
          "execution_count": 353
        }
      ],
      "source": [
        "korotkiy = arr[:, 1] < 10\n",
        "standartniy = (arr[:, 1] >= 10) & (arr[:, 1] < 20)\n",
        "dlinniy = arr[:, 1] >= 20\n",
        "\n",
        "mn_gp = min(len(arr[korotkiy]), len(arr[standartniy]), len(arr[dlinniy]))\n",
        "\n",
        "mas3D = np.array(((arr[korotkiy])[:mn_gp], (arr[standartniy])[:mn_gp], (arr[dlinniy])[:mn_gp]))\n",
        "print(\"Форма полученного массива:\", mas3D.shape)\n",
        "mas3D"
      ]
    }
  ],
  "metadata": {
    "kernelspec": {
      "display_name": "Python 3 (ipykernel)",
      "language": "python",
      "name": "python3"
    },
    "language_info": {
      "codemirror_mode": {
        "name": "ipython",
        "version": 3
      },
      "file_extension": ".py",
      "mimetype": "text/x-python",
      "name": "python",
      "nbconvert_exporter": "python",
      "pygments_lexer": "ipython3",
      "version": "3.9.12"
    },
    "colab": {
      "provenance": []
    }
  },
  "nbformat": 4,
  "nbformat_minor": 0
}