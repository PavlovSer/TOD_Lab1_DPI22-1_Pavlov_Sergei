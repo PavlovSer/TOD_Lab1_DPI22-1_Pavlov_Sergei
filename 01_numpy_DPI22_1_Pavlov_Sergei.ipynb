{
  "cells": [
    {
      "cell_type": "markdown",
      "metadata": {
        "id": "Av-vMKocLVTe"
      },
      "source": [
        "## Лабораторная работа №1"
      ]
    },
    {
      "cell_type": "markdown",
      "metadata": {
        "id": "6WmfdwM4LVTf"
      },
      "source": [
        "Замечание: при решении данных задач не подразумевается использования циклов или генераторов Python, если в задании не сказано обратного. Решение должно опираться на использования функционала библиотеки `numpy`."
      ]
    },
    {
      "cell_type": "markdown",
      "metadata": {
        "id": "6NjkmROlLVTg"
      },
      "source": [
        "1. Файл `minutes_n_ingredients.csv` содержит информацию об идентификаторе рецепта, времени его выполнения в минутах и количестве необходимых ингредиентов. Считайте данные из этого файла в виде массива `numpy` типа `int32`, используя `np.loadtxt`. Выведите на экран первые 5 строк массива."
      ]
    },
    {
      "cell_type": "code",
      "source": [
        "import numpy as np\n",
        "arr = np.loadtxt('minutes_n_ingredients.csv', delimiter=',', skiprows=1, dtype=np.int32)\n",
        "print(\"Первые 5 строк массива:\\n\",  arr[:5,:])"
      ],
      "metadata": {
        "colab": {
          "base_uri": "https://localhost:8080/"
        },
        "id": "espCet-YNffx",
        "outputId": "7d3b18a4-163d-48ef-f2a0-e0df5a7a24da"
      },
      "execution_count": 1,
      "outputs": [
        {
          "output_type": "stream",
          "name": "stdout",
          "text": [
            "Первые 5 строк массива:\n",
            " [[127244     60     16]\n",
            " [ 23891     25      7]\n",
            " [ 94746     10      6]\n",
            " [ 67660      5      6]\n",
            " [157911     60     14]]\n"
          ]
        }
      ]
    },
    {
      "cell_type": "markdown",
      "metadata": {
        "id": "hyX88I4SLVTh"
      },
      "source": [
        "2. Вычислите среднее значение, минимум, максимум и медиану по каждому из столбцов, кроме первого."
      ]
    },
    {
      "cell_type": "code",
      "source": [
        "print(\"Среднее значение времени и количества рецептов:\\n\", arr[:,1].mean(), arr[:,2].mean())\n",
        "print(\"\\nМинимальное значение времени и количества рецептов:\\n\", arr[:,1].min(), arr[:,2].min())\n",
        "print(\"\\nМаксимальное значение времени и количества рецептов:\\n\", arr[:,1].max(), arr[:,2].max())\n",
        "print(\"\\nМедианое значение времени и количества рецептов:\\n\", np.median(arr[:,1]), np.median(arr[:,2]))"
      ],
      "metadata": {
        "colab": {
          "base_uri": "https://localhost:8080/"
        },
        "id": "dfZB7uNeQUBB",
        "outputId": "2c842ee3-5bff-4627-cb2b-4713dcac8fea"
      },
      "execution_count": 2,
      "outputs": [
        {
          "output_type": "stream",
          "name": "stdout",
          "text": [
            "Среднее значение времени и количества рецептов:\n",
            " 21601.00169 9.05528\n",
            "\n",
            "Минимальное значение времени и количества рецептов:\n",
            " 0 1\n",
            "\n",
            "Максимальное значение времени и количества рецептов:\n",
            " 2147483647 39\n",
            "\n",
            "Медианое значение времени и количества рецептов:\n",
            " 40.0 9.0\n"
          ]
        }
      ]
    },
    {
      "cell_type": "markdown",
      "metadata": {
        "id": "WR36i0C8LVTi"
      },
      "source": [
        "3. Ограничьте сверху значения продолжительности выполнения рецепта значением квантиля $q_{0.75}$. "
      ]
    },
    {
      "cell_type": "code",
      "source": [
        "q075 = np.quantile(arr[:,1], q=0.75, axis=0)\n",
        "arr[:,1] = arr[:,1].clip(max=q075)"
      ],
      "metadata": {
        "id": "sdVf5rjSfTkr"
      },
      "execution_count": 3,
      "outputs": []
    },
    {
      "cell_type": "markdown",
      "metadata": {
        "id": "TO2diWLxLVTk"
      },
      "source": [
        "4. Посчитайте, для скольких рецептов указана продолжительность, равная нулю. Замените для таких строк значение в данном столбце на 1."
      ]
    },
    {
      "cell_type": "code",
      "source": [
        "count_0_min = np.count_nonzero(arr[:, 1] == 0)\n",
        "\n",
        "print(\"Количество рецептов продолжительностью 0 минут:\", count_0_min)\n",
        "arr[arr[:,1] == 0, 1] = 1"
      ],
      "metadata": {
        "colab": {
          "base_uri": "https://localhost:8080/"
        },
        "id": "gkv4_rGsjnkx",
        "outputId": "5a0ed914-4ff5-42d9-f27d-53d065e74e64"
      },
      "execution_count": 4,
      "outputs": [
        {
          "output_type": "stream",
          "name": "stdout",
          "text": [
            "Количество рецептов продолжительностью 0 минут: 479\n"
          ]
        }
      ]
    },
    {
      "cell_type": "markdown",
      "metadata": {
        "id": "acPKCo0ZLVTk"
      },
      "source": [
        "5. Посчитайте, сколько уникальных рецептов находится в датасете."
      ]
    },
    {
      "cell_type": "code",
      "source": [
        "print(\"Количество уникальных рецептов:\", len(np.unique(arr, axis=1)))"
      ],
      "metadata": {
        "colab": {
          "base_uri": "https://localhost:8080/"
        },
        "id": "lz0t6Slg1ZEF",
        "outputId": "b98124b5-b567-4de6-8830-e81902dba61a"
      },
      "execution_count": 5,
      "outputs": [
        {
          "output_type": "stream",
          "name": "stdout",
          "text": [
            "Количество уникальных рецептов: 100000\n"
          ]
        }
      ]
    },
    {
      "cell_type": "markdown",
      "metadata": {
        "id": "KvdUk0oZLVTk"
      },
      "source": [
        "6. Сколько и каких различных значений кол-ва ингредиентов присутвует в рецептах из датасета?"
      ]
    },
    {
      "cell_type": "code",
      "source": [
        "print(\"Различных количеств ингридиентов:\",len(np.unique(arr[:,2])))\n",
        "print(\"Различные значения количества ингридиентов:\\n\", np.unique(arr[:,2]))\n"
      ],
      "metadata": {
        "colab": {
          "base_uri": "https://localhost:8080/"
        },
        "id": "sM5TuElW6Ytn",
        "outputId": "85e90197-cdf1-4e7d-bdf0-6cc13f04e91e"
      },
      "execution_count": 6,
      "outputs": [
        {
          "output_type": "stream",
          "name": "stdout",
          "text": [
            "Различных количеств ингридиентов: 37\n",
            "Различные значения количества ингридиентов:\n",
            " [ 1  2  3  4  5  6  7  8  9 10 11 12 13 14 15 16 17 18 19 20 21 22 23 24\n",
            " 25 26 27 28 29 30 31 32 33 34 35 37 39]\n"
          ]
        }
      ]
    },
    {
      "cell_type": "markdown",
      "metadata": {
        "id": "etml7IuOLVTl"
      },
      "source": [
        "7. Создайте версию массива, содержащую информацию только о рецептах, состоящих не более чем из 5 ингредиентов."
      ]
    },
    {
      "cell_type": "code",
      "source": [
        "version = arr[arr[:,2] <= 5,:].copy()\n",
        "print(\"Количество рецептов, состоящих не более чем из 5 ингредиентов:\", len(version))"
      ],
      "metadata": {
        "colab": {
          "base_uri": "https://localhost:8080/"
        },
        "id": "I67AnVnH97nl",
        "outputId": "4897efa2-459f-4222-a17a-ac8c74b19f49"
      },
      "execution_count": 7,
      "outputs": [
        {
          "output_type": "stream",
          "name": "stdout",
          "text": [
            "Количество рецептов, состоящих не более чем из 5 ингредиентов: 17262\n"
          ]
        }
      ]
    },
    {
      "cell_type": "markdown",
      "metadata": {
        "id": "fZ46XGgpLVTl"
      },
      "source": [
        "8. Для каждого рецепта посчитайте, сколько в среднем ингредиентов приходится на одну минуту рецепта. Найдите максимальное значение этой величины для всего датасета"
      ]
    },
    {
      "cell_type": "code",
      "source": [
        "print(\"Максимум кол-ва ингредиентов на одну минуту в рецепте:\", (arr[:,2] / arr[:, 1]).max())"
      ],
      "metadata": {
        "colab": {
          "base_uri": "https://localhost:8080/"
        },
        "id": "VS_AhJNtBFQE",
        "outputId": "5bbb5092-c239-465c-dedb-04b6ec513ff0"
      },
      "execution_count": 8,
      "outputs": [
        {
          "output_type": "stream",
          "name": "stdout",
          "text": [
            "Максимум кол-ва ингредиентов на одну минуту в рецепте: 24.0\n"
          ]
        }
      ]
    },
    {
      "cell_type": "markdown",
      "metadata": {
        "id": "pH4P5qYfLVTm"
      },
      "source": [
        "9. Вычислите среднее количество ингредиентов для топ-100 рецептов с наибольшей продолжительностью"
      ]
    },
    {
      "cell_type": "code",
      "source": [
        "print((arr[arr[:,1].argsort()[::-1]])[:100,2].mean())"
      ],
      "metadata": {
        "colab": {
          "base_uri": "https://localhost:8080/"
        },
        "id": "KY6d9s0R2BHt",
        "outputId": "365209da-d7f4-477d-88bc-f26117d3ef77"
      },
      "execution_count": 9,
      "outputs": [
        {
          "output_type": "stream",
          "name": "stdout",
          "text": [
            "9.96\n"
          ]
        }
      ]
    },
    {
      "cell_type": "markdown",
      "source": [
        "Если под 'топ-100' понимается первые 100 рецептов по порядку следования в датасете с максимальным временем, то среднее количество ингредиентов равно:"
      ],
      "metadata": {
        "id": "bVG5f9NvEv9U"
      }
    },
    {
      "cell_type": "code",
      "source": [
        "print((arr[arr[:,1] == arr[:,1].max()])[:100, 2].mean())"
      ],
      "metadata": {
        "colab": {
          "base_uri": "https://localhost:8080/"
        },
        "id": "Xku8r-olFfDd",
        "outputId": "b7b13633-10cb-4266-aa85-1bfdbd70d851"
      },
      "execution_count": 10,
      "outputs": [
        {
          "output_type": "stream",
          "name": "stdout",
          "text": [
            "10.03\n"
          ]
        }
      ]
    },
    {
      "cell_type": "markdown",
      "metadata": {
        "id": "hx5YZ8SkLVTn"
      },
      "source": [
        "10. Выберите случайным образом и выведите информацию о 10 различных рецептах"
      ]
    },
    {
      "cell_type": "code",
      "source": [
        "#rand_rezept = np.random.randint(0, len(arr), size=10) <-- вариант не учитывающий \"различные\" рецепты\n",
        "\n",
        "# rand_rezep - вспомогательный массив (первый столбец - случайное число, второй - индекс)\n",
        "rand_rezept = np.concatenate((np.random.randint(0, 100000, len(arr))[np.newaxis, :].T, np.arange(len(arr))[np.newaxis, :].T), axis=1)\n",
        "\n",
        "# сортируем и выводим первые 10\n",
        "print(\"Информация о 10 различных случайных рецептах:\")\n",
        "print(arr[(rand_rezept[rand_rezept[:, 0].argsort()])[:10, 1]])\n",
        "\n",
        "# алгоритм гарантирует неповторяющиеся рецепты, сделано без for )"
      ],
      "metadata": {
        "colab": {
          "base_uri": "https://localhost:8080/"
        },
        "id": "bIqRWBwiLSrp",
        "outputId": "d047aa9d-16e6-4a76-e3c9-8638cb054bfa"
      },
      "execution_count": 11,
      "outputs": [
        {
          "output_type": "stream",
          "name": "stdout",
          "text": [
            "Информация о 10 различных случайных рецептах:\n",
            "[[ 70240     65      6]\n",
            " [475918     22      8]\n",
            " [407198     42     13]\n",
            " [ 84427     35      9]\n",
            " [211907     20      9]\n",
            " [143432     25     14]\n",
            " [173231     40     10]\n",
            " [108007     10      8]\n",
            " [422091     35     13]\n",
            " [330259     33      6]]\n"
          ]
        }
      ]
    },
    {
      "cell_type": "markdown",
      "metadata": {
        "id": "5u6e7l8QLVTn"
      },
      "source": [
        "11. Выведите процент рецептов, кол-во ингредиентов в которых меньше среднего."
      ]
    },
    {
      "cell_type": "code",
      "source": [
        "print(\"Процент рецептов, кол-во ингредиентов в которых меньше среднего:\")\n",
        "print(len(arr[arr[:, 2] < arr[:, 2].mean()]) * 100 / len(arr), \"%\")"
      ],
      "metadata": {
        "colab": {
          "base_uri": "https://localhost:8080/"
        },
        "id": "e_xUQx65RgMu",
        "outputId": "923284f6-ad0a-4b1a-d2de-687db6bc497e"
      },
      "execution_count": 12,
      "outputs": [
        {
          "output_type": "stream",
          "name": "stdout",
          "text": [
            "Процент рецептов, кол-во ингредиентов в которых меньше среднего:\n",
            "58.802 %\n"
          ]
        }
      ]
    },
    {
      "cell_type": "markdown",
      "metadata": {
        "id": "dtKn3YvnLVTo"
      },
      "source": [
        "12. Назовем \"простым\" такой рецепт, длительность выполнения которого не больше 20 минут и кол-во ингредиентов в котором не больше 5. Создайте версию датасета с дополнительным столбцом, значениями которого являются 1, если рецепт простой, и 0 в противном случае."
      ]
    },
    {
      "cell_type": "code",
      "source": [
        "dop_col = np.arange(len(arr))\n",
        "dop_col[:] = 0\n",
        "dop_col[(arr[:,1] <= 20) & (arr[:,2] <= 5)] = 1\n",
        "dop_col = dop_col[np.newaxis, :]\n",
        "\n",
        "version2 = np.concatenate((arr, dop_col.T), axis = 1)\n",
        "print(\"Версия датасета с дополнительным столбцом:\")\n",
        "print(version2)"
      ],
      "metadata": {
        "colab": {
          "base_uri": "https://localhost:8080/"
        },
        "id": "E9t-SRzfiJu-",
        "outputId": "7ba3ff06-aea0-41b5-8c87-28b0eef36461"
      },
      "execution_count": 13,
      "outputs": [
        {
          "output_type": "stream",
          "name": "stdout",
          "text": [
            "Версия датасета с дополнительным столбцом:\n",
            "[[127244     60     16      0]\n",
            " [ 23891     25      7      0]\n",
            " [ 94746     10      6      0]\n",
            " ...\n",
            " [498432     65     15      0]\n",
            " [370915      5      4      1]\n",
            " [ 81993     65     14      0]]\n"
          ]
        }
      ]
    },
    {
      "cell_type": "markdown",
      "metadata": {
        "id": "OBMEzLwmLVTp"
      },
      "source": [
        "13. Выведите процент \"простых\" рецептов в датасете"
      ]
    },
    {
      "cell_type": "code",
      "source": [
        "print(\"Процент 'простых' рецептов в датасете:\")\n",
        "print(len(arr[(arr[:,1] <= 20) & (arr[:,2] <= 5)]) * 100 / len(arr), \"%\")"
      ],
      "metadata": {
        "colab": {
          "base_uri": "https://localhost:8080/"
        },
        "id": "BegAy7uKUSLm",
        "outputId": "acef7394-4ed2-4783-9f3b-9178e92ebd17"
      },
      "execution_count": 14,
      "outputs": [
        {
          "output_type": "stream",
          "name": "stdout",
          "text": [
            "Процент 'простых' рецептов в датасете:\n",
            "9.552 %\n"
          ]
        }
      ]
    },
    {
      "cell_type": "markdown",
      "metadata": {
        "id": "7WSIfz2NLVTp"
      },
      "source": [
        "14. Разделим рецепты на группы по следующему правилу. Назовем рецепты короткими, если их продолжительность составляет менее 10 минут; стандартными, если их продолжительность составляет более 10, но менее 20 минут; и длинными, если их продолжительность составляет не менее 20 минут. Создайте трехмерный массив, где нулевая ось отвечает за номер группы (короткий, стандартный или длинный рецепт), первая ось - за сам рецепт и вторая ось - за характеристики рецепта. Выберите максимальное количество рецептов из каждой группы таким образом, чтобы было возможно сформировать трехмерный массив. Выведите форму полученного массива."
      ]
    },
    {
      "cell_type": "code",
      "execution_count": 15,
      "metadata": {
        "colab": {
          "base_uri": "https://localhost:8080/"
        },
        "id": "so9w5jHVLVTq",
        "outputId": "188b08a9-e382-4b42-d940-da7e2a3997b3"
      },
      "outputs": [
        {
          "output_type": "stream",
          "name": "stdout",
          "text": [
            "Форма полученного массива: (3, 7588, 3)\n"
          ]
        },
        {
          "output_type": "execute_result",
          "data": {
            "text/plain": [
              "array([[[ 67660,      5,      6],\n",
              "        [366174,      7,      9],\n",
              "        [204134,      5,      3],\n",
              "        ...,\n",
              "        [420725,      5,      3],\n",
              "        [  4747,      1,      9],\n",
              "        [370915,      5,      4]],\n",
              "\n",
              "       [[ 94746,     10,      6],\n",
              "        [ 33941,     18,      9],\n",
              "        [446597,     15,      5],\n",
              "        ...,\n",
              "        [  9831,     15,      7],\n",
              "        [335859,     12,     14],\n",
              "        [256812,     10,      3]],\n",
              "\n",
              "       [[127244,     60,     16],\n",
              "        [ 23891,     25,      7],\n",
              "        [157911,     60,     14],\n",
              "        ...,\n",
              "        [168901,     25,      7],\n",
              "        [392339,     35,     13],\n",
              "        [206732,     45,     10]]], dtype=int32)"
            ]
          },
          "metadata": {},
          "execution_count": 15
        }
      ],
      "source": [
        "korotkiy = arr[:, 1] < 10\n",
        "standartniy = (arr[:, 1] >= 10) & (arr[:, 1] < 20)\n",
        "dlinniy = arr[:, 1] >= 20\n",
        "\n",
        "mn_gp = min(len(arr[korotkiy]), len(arr[standartniy]), len(arr[dlinniy]))\n",
        "\n",
        "mas3D = np.array(((arr[korotkiy])[:mn_gp], (arr[standartniy])[:mn_gp], (arr[dlinniy])[:mn_gp]))\n",
        "print(\"Форма полученного массива:\", mas3D.shape)\n",
        "mas3D"
      ]
    }
  ],
  "metadata": {
    "kernelspec": {
      "display_name": "Python 3 (ipykernel)",
      "language": "python",
      "name": "python3"
    },
    "language_info": {
      "codemirror_mode": {
        "name": "ipython",
        "version": 3
      },
      "file_extension": ".py",
      "mimetype": "text/x-python",
      "name": "python",
      "nbconvert_exporter": "python",
      "pygments_lexer": "ipython3",
      "version": "3.9.12"
    },
    "colab": {
      "provenance": []
    }
  },
  "nbformat": 4,
  "nbformat_minor": 0
}